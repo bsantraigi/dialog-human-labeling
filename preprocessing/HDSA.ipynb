{
 "cells": [
  {
   "cell_type": "code",
   "execution_count": 1,
   "metadata": {},
   "outputs": [],
   "source": [
    "import os\n",
    "import json\n",
    "import glob"
   ]
  },
  {
   "cell_type": "code",
   "execution_count": 2,
   "metadata": {},
   "outputs": [],
   "source": [
    "data_root = 'multiwoz/HDSA'"
   ]
  },
  {
   "cell_type": "code",
   "execution_count": 3,
   "metadata": {},
   "outputs": [
    {
     "data": {
      "text/plain": [
       "['multiwoz/HDSA/results.txt.pred.non_delex',\n",
       " 'multiwoz/HDSA/results.txt.pred.BERT_dim128_w_domain.pred',\n",
       " 'multiwoz/HDSA/results.txt.non_delex']"
      ]
     },
     "execution_count": 3,
     "metadata": {},
     "output_type": "execute_result"
    }
   ],
   "source": [
    "glob.glob(data_root + '/*')"
   ]
  },
  {
   "cell_type": "code",
   "execution_count": 5,
   "metadata": {},
   "outputs": [
    {
     "name": "stdout",
     "output_type": "stream",
     "text": [
      "{\r\n",
      "  \"MUL0003\": [\r\n",
      "    \"there are [value_count] hotel -s that meet your criteria . is there a particular area you would like to stay in ?\",\r\n",
      "    \"[hotel_name] is in the [hotel_pricerange] price range . would you like me to book it for you ?\",\r\n",
      "    \"i would recommend the [hotel_name] . would you like me to book it for you ?\",\r\n",
      "    \"what day will you be arriving and how many nights will you be staying ?\",\r\n",
      "    \"would you like me to book it for you ?\",\r\n",
      "    \"yes , it is . would you like me to book it for you ?\",\r\n",
      "    \"booking was successful . the table will be reserved for [value_count] minutes . reference number is [restaurant_reference] . is there anything else i can help you with ?\",\r\n",
      "    \"you are welcome . have a great day !\"\r\n"
     ]
    }
   ],
   "source": [
    "!head multiwoz/HDSA/results.txt.pred.BERT_dim128_w_domain.pred"
   ]
  },
  {
   "cell_type": "code",
   "execution_count": null,
   "metadata": {},
   "outputs": [],
   "source": []
  }
 ],
 "metadata": {
  "kernelspec": {
   "display_name": "Python (tf_gpu)",
   "language": "python",
   "name": "tf_gpu"
  },
  "language_info": {
   "codemirror_mode": {
    "name": "ipython",
    "version": 3
   },
   "file_extension": ".py",
   "mimetype": "text/x-python",
   "name": "python",
   "nbconvert_exporter": "python",
   "pygments_lexer": "ipython3",
   "version": "3.6.7"
  },
  "toc": {
   "base_numbering": 1,
   "nav_menu": {},
   "number_sections": true,
   "sideBar": true,
   "skip_h1_title": false,
   "title_cell": "Table of Contents",
   "title_sidebar": "Contents",
   "toc_cell": false,
   "toc_position": {},
   "toc_section_display": true,
   "toc_window_display": true
  }
 },
 "nbformat": 4,
 "nbformat_minor": 2
}
