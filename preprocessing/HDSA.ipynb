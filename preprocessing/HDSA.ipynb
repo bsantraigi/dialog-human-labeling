{
 "cells": [
  {
   "cell_type": "code",
   "execution_count": 1,
   "metadata": {},
   "outputs": [],
   "source": [
    "import os\n",
    "import json\n",
    "import glob\n",
    "import pprint\n",
    "pp = pprint.PrettyPrinter(indent=2)"
   ]
  },
  {
   "cell_type": "code",
   "execution_count": 2,
   "metadata": {},
   "outputs": [],
   "source": [
    "data_root = 'multiwoz/HDSA'"
   ]
  },
  {
   "cell_type": "code",
   "execution_count": 3,
   "metadata": {},
   "outputs": [
    {
     "data": {
      "text/plain": [
       "['multiwoz/HDSA/results.txt.pred.non_delex',\n",
       " 'multiwoz/HDSA/results.txt.pred.BERT_dim128_w_domain.pred',\n",
       " 'multiwoz/HDSA/results.txt.non_delex']"
      ]
     },
     "execution_count": 3,
     "metadata": {},
     "output_type": "execute_result"
    }
   ],
   "source": [
    "glob.glob(data_root + '/*')"
   ]
  },
  {
   "cell_type": "markdown",
   "metadata": {},
   "source": [
    "### Read ResGEN outputs"
   ]
  },
  {
   "cell_type": "code",
   "execution_count": 4,
   "metadata": {},
   "outputs": [],
   "source": [
    "def vlgan_json(path):\n",
    "    vlgan_predictions = {}\n",
    "    with open(path) as vlganf:\n",
    "        for line in vlganf:\n",
    "            po = json.loads(line)\n",
    "            vlgan_predictions[po['0']['info']['name']] = po\n",
    "    return vlgan_predictions"
   ]
  },
  {
   "cell_type": "code",
   "execution_count": 5,
   "metadata": {},
   "outputs": [],
   "source": [
    "vlgan_predictions = vlgan_json('multiwoz/VLGAN/multiwoz_predictions_Nov-21.json')"
   ]
  },
  {
   "cell_type": "code",
   "execution_count": 6,
   "metadata": {},
   "outputs": [
    {
     "data": {
      "text/plain": [
       "1000"
      ]
     },
     "execution_count": 6,
     "metadata": {},
     "output_type": "execute_result"
    }
   ],
   "source": [
    "len(vlgan_predictions)"
   ]
  },
  {
   "cell_type": "markdown",
   "metadata": {},
   "source": [
    "### Augment ResGEN json"
   ]
  },
  {
   "cell_type": "code",
   "execution_count": 7,
   "metadata": {},
   "outputs": [],
   "source": [
    "hdsa_predictions = json.load(open('multiwoz/HDSA/results.txt.pred.non_delex'))"
   ]
  },
  {
   "cell_type": "code",
   "execution_count": 8,
   "metadata": {},
   "outputs": [],
   "source": [
    "def augment(vlgan_preds, tag):\n",
    "    for i in vlgan_preds:\n",
    "        hdsa_sample, vlgan_sample = hdsa_predictions[i.replace('.json', '')], vlgan_preds[i]\n",
    "        for t in vlgan_sample:\n",
    "            # HDSA only predicts at agent steps!\n",
    "            _t = int(t)\n",
    "            if _t%2 == 1:\n",
    "                vlgan_preds[i][t]['hdsa'] = hdsa_sample[_t//2]"
   ]
  },
  {
   "cell_type": "code",
   "execution_count": 9,
   "metadata": {},
   "outputs": [],
   "source": [
    "augment(vlgan_predictions, 'hdsa')"
   ]
  },
  {
   "cell_type": "code",
   "execution_count": 10,
   "metadata": {},
   "outputs": [],
   "source": [
    "vlgan_predictions = list(vlgan_predictions.values())"
   ]
  },
  {
   "cell_type": "markdown",
   "metadata": {},
   "source": [
    "### [HIDDEN] tags"
   ]
  },
  {
   "cell_type": "code",
   "execution_count": 11,
   "metadata": {},
   "outputs": [],
   "source": [
    "from utils import Lang\n",
    "import pickle"
   ]
  },
  {
   "cell_type": "code",
   "execution_count": 12,
   "metadata": {},
   "outputs": [],
   "source": [
    "lang = pickle.load(open('../d_vocab_lang.pickle', 'rb'))"
   ]
  },
  {
   "cell_type": "code",
   "execution_count": 13,
   "metadata": {},
   "outputs": [],
   "source": [
    "def trickMe(s):\n",
    "    s = s.replace('<unk>', 'jldifuwlaf') # No such word!\n",
    "    s = ' '.join(lang.decodeSentence(lang.encodeSentence(s)))\n",
    "    s = s.capitalize()\n",
    "    s = s.replace('<unk>', '[HIDDEN]')\n",
    "    return s"
   ]
  },
  {
   "cell_type": "code",
   "execution_count": 14,
   "metadata": {},
   "outputs": [],
   "source": [
    "for i, example in enumerate(vlgan_predictions):\n",
    "    for t in example:\n",
    "        keys = ['gold', 'resgen', 'hdsa']\n",
    "        for key in keys:\n",
    "            if key in example[t]:\n",
    "                if key == 'resgen':\n",
    "                    example[t]['resgen'] = [trickMe(r) for r in example[t]['resgen']]\n",
    "                else:\n",
    "                    example[t][key] = trickMe(example[t][key])\n",
    "    vlgan_predictions[i] = example"
   ]
  },
  {
   "cell_type": "markdown",
   "metadata": {},
   "source": [
    "### To file"
   ]
  },
  {
   "cell_type": "code",
   "execution_count": 15,
   "metadata": {},
   "outputs": [],
   "source": [
    "with open('../outputs/multiwoz_predictions_combined-Nov-21.json', 'w') as outf:\n",
    "    for entry in vlgan_predictions:\n",
    "        outf.write(json.dumps(entry) + '\\n')"
   ]
  },
  {
   "cell_type": "code",
   "execution_count": null,
   "metadata": {},
   "outputs": [],
   "source": []
  }
 ],
 "metadata": {
  "kernelspec": {
   "display_name": "Python (tf_gpu)",
   "language": "python",
   "name": "tf_gpu"
  },
  "language_info": {
   "codemirror_mode": {
    "name": "ipython",
    "version": 3
   },
   "file_extension": ".py",
   "mimetype": "text/x-python",
   "name": "python",
   "nbconvert_exporter": "python",
   "pygments_lexer": "ipython3",
   "version": "3.6.7"
  },
  "toc": {
   "base_numbering": 1,
   "nav_menu": {},
   "number_sections": true,
   "sideBar": true,
   "skip_h1_title": false,
   "title_cell": "Table of Contents",
   "title_sidebar": "Contents",
   "toc_cell": false,
   "toc_position": {},
   "toc_section_display": true,
   "toc_window_display": true
  }
 },
 "nbformat": 4,
 "nbformat_minor": 2
}
