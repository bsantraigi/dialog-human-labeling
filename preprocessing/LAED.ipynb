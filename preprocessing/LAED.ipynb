{
 "cells": [
  {
   "cell_type": "code",
   "execution_count": 69,
   "metadata": {},
   "outputs": [],
   "source": [
    "import json\n",
    "import os\n",
    "import glob\n",
    "import pickle"
   ]
  },
  {
   "cell_type": "code",
   "execution_count": 70,
   "metadata": {},
   "outputs": [],
   "source": [
    "data_root = 'dd/LAED/2019-12-04T23-43-57-dailydial-skip.py/'"
   ]
  },
  {
   "cell_type": "code",
   "execution_count": 71,
   "metadata": {},
   "outputs": [
    {
     "name": "stdout",
     "output_type": "stream",
     "text": [
      "dd/LAED/2019-12-04T23-43-57-dailydial-skip.py/2019-12-04T23-44-05-test-greedy.txt.txt\n"
     ]
    }
   ],
   "source": [
    "greedy_outf = glob.glob(data_root+'/*greedy.txt.txt')[0]\n",
    "print(greedy_outf)"
   ]
  },
  {
   "cell_type": "code",
   "execution_count": 72,
   "metadata": {},
   "outputs": [],
   "source": [
    "tag = 'laed-skip'"
   ]
  },
  {
   "cell_type": "code",
   "execution_count": 73,
   "metadata": {},
   "outputs": [],
   "source": [
    "utterances = []\n",
    "# Process the individual predictions from LAED\n",
    "with open(greedy_outf) as f:\n",
    "    dat = {}\n",
    "    for line in f:\n",
    "        if line.startswith(\"==== REPORT====\"):\n",
    "            break\n",
    "        if len(line.strip()) == 0:\n",
    "            if len(dat) > 0:\n",
    "                utterances.append(dat)\n",
    "            dat = {}\n",
    "            continue\n",
    "        \n",
    "        k, v = line.split(': ', 1)\n",
    "        k = k.strip()\n",
    "        v = v.strip()\n",
    "        dat[k] = v\n",
    "\n",
    "laed_predictions = []\n",
    "dial = []\n",
    "for entry in utterances:\n",
    "    if entry['Source'] == '<d>':\n",
    "        if len(dial) > 0:\n",
    "            laed_predictions.append(dial)\n",
    "        dial = []\n",
    "        \n",
    "    dial.append(entry)\n",
    "\n",
    "# THE LAST ONE    \n",
    "laed_predictions.append(dial)"
   ]
  },
  {
   "cell_type": "code",
   "execution_count": 74,
   "metadata": {},
   "outputs": [],
   "source": [
    "vlgan_predictions = []\n",
    "with open('dd/VLGAN/dd_predictions_tmp.json') as vlganf:\n",
    "    for line in vlganf:\n",
    "        po = json.loads(line)\n",
    "        vlgan_predictions.append(po)"
   ]
  },
  {
   "cell_type": "code",
   "execution_count": 75,
   "metadata": {},
   "outputs": [
    {
     "data": {
      "text/plain": [
       "1000"
      ]
     },
     "execution_count": 75,
     "metadata": {},
     "output_type": "execute_result"
    }
   ],
   "source": [
    "len(vlgan_predictions)"
   ]
  },
  {
   "cell_type": "code",
   "execution_count": 76,
   "metadata": {},
   "outputs": [],
   "source": [
    "for i in range(len(vlgan_predictions)):\n",
    "    laed_sample, vlgan_sample = laed_predictions[i], vlgan_predictions[i]\n",
    "    if len(laed_sample) < 12:\n",
    "        assert (len(laed_sample)) == len(vlgan_sample)\n",
    "    else:\n",
    "        assert len(vlgan_sample) == 11 and len(laed_sample) > 11\n",
    "    \n",
    "    for t in range(min(12, len(vlgan_sample))):\n",
    "        _t = str(t)\n",
    "        vlgan_predictions[i][_t][f'{tag}'] = laed_sample[t]['Predict']\n",
    "        vlgan_predictions[i][_t][f'{tag}.Target'] = laed_sample[t]['Target']"
   ]
  },
  {
   "cell_type": "code",
   "execution_count": 77,
   "metadata": {
    "scrolled": true
   },
   "outputs": [
    {
     "data": {
      "text/plain": [
       "{'0': {'user-x': 0,\n",
       "  'gold': \"I'm sorry I'm so late . I had a really bad day .\",\n",
       "  'laed-skip': \"television? i 'm a foreigner. i haven' t seen a lot of gas lately.\",\n",
       "  'laed-skip.Target': \"i 'm sorry i' m so late. i had a really bad day.\"},\n",
       " '1': {'user-x': 1,\n",
       "  'gold': \"It's ten after six.We ' re late.But dinner is at six thirty .\",\n",
       "  'resgen': ['you re welcome to the . . .'],\n",
       "  'laed-skip': 'did you panic it?',\n",
       "  'laed-skip.Target': \"it 's ten after six. we' re late. but dinner is at six thirty.\"},\n",
       " '2': {'user-x': 0,\n",
       "  'gold': \"I know . I know . I'm really sorry . I lost my bag .\",\n",
       "  'resgen': ['oh , that s too .'],\n",
       "  'laed-skip': 'white.',\n",
       "  'laed-skip.Target': \"i know. i know. i 'm really sorry. i lost my bag.\"},\n",
       " '3': {'user-x': 1,\n",
       "  'gold': \"I'll call the lost and found office .\",\n",
       "  'resgen': ['you are too cold .'],\n",
       "  'laed-skip': \"appropriate. you should go to the gym with us. i think you 're going to be there.\",\n",
       "  'laed-skip.Target': \"i 'll call the lost and found office.\"},\n",
       " '4': {'user-x': 0,\n",
       "  'gold': \"I didn't think of it.Thank you.And I do apologize for being late .\",\n",
       "  'resgen': ['you re right .'],\n",
       "  'laed-skip': 'welcome to you.',\n",
       "  'laed-skip.Target': \"i didn 't think of it. thank you. and i do apologize for being late.\"}}"
      ]
     },
     "execution_count": 77,
     "metadata": {},
     "output_type": "execute_result"
    }
   ],
   "source": [
    "vlgan_predictions[-988]"
   ]
  },
  {
   "cell_type": "code",
   "execution_count": 78,
   "metadata": {
    "scrolled": true
   },
   "outputs": [
    {
     "data": {
      "text/plain": [
       "[{'Source': '<d>',\n",
       "  'Target': 'what a nice day!',\n",
       "  'Predict': '325, are you going to have a nice trip?'},\n",
       " {'Source': '<d><t>what a nice day!',\n",
       "  'Target': 'yes. how about going out and enjoying the sunshine on the grass?',\n",
       "  'Predict': 'what do you think of the traffic?'},\n",
       " {'Source': '<d><t>what a nice day!<t>yes. how about going out and enjoying the sunshine on the grass?',\n",
       "  'Target': \"great, let 's go!\",\n",
       "  'Predict': 'iq, i want to be a new car.'},\n",
       " {'Source': \"<d><t>what a nice day!<t>yes. how about going out and enjoying the sunshine on the grass?<t>great, let 's go!\",\n",
       "  'Target': 'hey, darling, i think i might have a little <unk> from being in the sun all day. i was so relaxed. it felt as if i were in another world.',\n",
       "  'Predict': 'figured!'},\n",
       " {'Source': \"<d><t>what a nice day!<t>yes. how about going out and enjoying the sunshine on the grass?<t>great, let 's go!<t>hey, darling, i think i might have a little <unk> from being in the sun all day. i was so relaxed. it felt as if i were in another world.\",\n",
       "  'Target': 'exactly. you know, the sunshine and wind remind me of our honeymoon. you remember? the island, the sound of the waves, the salty sea air and the sunshine...',\n",
       "  'Predict': 'wow! you are so lucky! you know that you are going to be a vegetarian.'},\n",
       " {'Source': \"<d><t>what a nice day!<t>yes. how about going out and enjoying the sunshine on the grass?<t>great, let 's go!<t>hey, darling, i think i might have a little <unk> from being in the sun all day. i was so relaxed. it felt as if i were in another world.<t>exactly. you know, the sunshine and wind remind me of our honeymoon. you remember? the island, the sound of the waves, the salty sea air and the sunshine...\",\n",
       "  'Target': \"yes, it was wonderful but it 's already been a year. how time flies!\",\n",
       "  'Predict': 'thank you. i really appreciate it.'},\n",
       " {'Source': \"<d><t>what a nice day!<t>yes. how about going out and enjoying the sunshine on the grass?<t>great, let 's go!<t>hey, darling, i think i might have a little <unk> from being in the sun all day. i was so relaxed. it felt as if i were in another world.<t>exactly. you know, the sunshine and wind remind me of our honeymoon. you remember? the island, the sound of the waves, the salty sea air and the sunshine...<t>yes, it was wonderful but it 's already been a year. how time flies!\",\n",
       "  'Target': 'why not go again to celebrate out one - year anniversary? we can go to the same beach, stay in the same hotel and enjoy a dinner in the same restaurant.',\n",
       "  'Predict': \"nothing. i 'll just get the tickets for you. i' ll try to get a bag and then you 'll have a shot.\"},\n",
       " {'Source': \"<d><t>what a nice day!<t>yes. how about going out and enjoying the sunshine on the grass?<t>great, let 's go!<t>hey, darling, i think i might have a little <unk> from being in the sun all day. i was so relaxed. it felt as if i were in another world.<t>exactly. you know, the sunshine and wind remind me of our honeymoon. you remember? the island, the sound of the waves, the salty sea air and the sunshine...<t>yes, it was wonderful but it 's already been a year. how time flies!<t>why not go again to celebrate out one - year anniversary? we can go to the same beach, stay in the same hotel and enjoy a dinner in the same restaurant.\",\n",
       "  'Target': 'are you kidding? can you afford it? do you think we can get a room on such short notice?',\n",
       "  'Predict': 'great! where are you going?'},\n",
       " {'Source': \"<d><t>what a nice day!<t>yes. how about going out and enjoying the sunshine on the grass?<t>great, let 's go!<t>hey, darling, i think i might have a little <unk> from being in the sun all day. i was so relaxed. it felt as if i were in another world.<t>exactly. you know, the sunshine and wind remind me of our honeymoon. you remember? the island, the sound of the waves, the salty sea air and the sunshine...<t>yes, it was wonderful but it 's already been a year. how time flies!<t>why not go again to celebrate out one - year anniversary? we can go to the same beach, stay in the same hotel and enjoy a dinner in the same restaurant.<t>are you kidding? can you afford it? do you think we can get a room on such short notice?\",\n",
       "  'Target': \"never mind that, i 'll take care of it. are you available next week?\",\n",
       "  'Predict': \"what 's up?\"},\n",
       " {'Source': \"<d><t>what a nice day!<t>yes. how about going out and enjoying the sunshine on the grass?<t>great, let 's go!<t>hey, darling, i think i might have a little <unk> from being in the sun all day. i was so relaxed. it felt as if i were in another world.<t>exactly. you know, the sunshine and wind remind me of our honeymoon. you remember? the island, the sound of the waves, the salty sea air and the sunshine...<t>yes, it was wonderful but it 's already been a year. how time flies!<t>why not go again to celebrate out one - year anniversary? we can go to the same beach, stay in the same hotel and enjoy a dinner in the same restaurant.<t>are you kidding? can you afford it? do you think we can get a room on such short notice?<t>never mind that, i 'll take care of it. are you available next week?\",\n",
       "  'Target': 'yeah, i think so.',\n",
       "  'Predict': \"thanks. i won 't be able to do that.\"},\n",
       " {'Source': \"what a nice day!<t>yes. how about going out and enjoying the sunshine on the grass?<t>great, let 's go!<t>hey, darling, i think i might have a little <unk> from being in the sun all day. i was so relaxed. it felt as if i were in another world.<t>exactly. you know, the sunshine and wind remind me of our honeymoon. you remember? the island, the sound of the waves, the salty sea air and the sunshine...<t>yes, it was wonderful but it 's already been a year. how time flies!<t>why not go again to celebrate out one - year anniversary? we can go to the same beach, stay in the same hotel and enjoy a dinner in the same restaurant.<t>are you kidding? can you afford it? do you think we can get a room on such short notice?<t>never mind that, i 'll take care of it. are you available next week?<t>yeah, i think so.\",\n",
       "  'Target': \"ok. i 'll make the arrangements. it will be great.\",\n",
       "  'Predict': 'bye!'},\n",
       " {'Source': \"yes. how about going out and enjoying the sunshine on the grass?<t>great, let 's go!<t>hey, darling, i think i might have a little <unk> from being in the sun all day. i was so relaxed. it felt as if i were in another world.<t>exactly. you know, the sunshine and wind remind me of our honeymoon. you remember? the island, the sound of the waves, the salty sea air and the sunshine...<t>yes, it was wonderful but it 's already been a year. how time flies!<t>why not go again to celebrate out one - year anniversary? we can go to the same beach, stay in the same hotel and enjoy a dinner in the same restaurant.<t>are you kidding? can you afford it? do you think we can get a room on such short notice?<t>never mind that, i 'll take care of it. are you available next week?<t>yeah, i think so.<t>ok. i 'll make the arrangements. it will be great.\",\n",
       "  'Target': \"wonderful! i 'll start packing our suitcases.\",\n",
       "  'Predict': 'bye!'}]"
      ]
     },
     "execution_count": 78,
     "metadata": {},
     "output_type": "execute_result"
    }
   ],
   "source": [
    "laed_sample"
   ]
  },
  {
   "cell_type": "code",
   "execution_count": null,
   "metadata": {},
   "outputs": [],
   "source": []
  }
 ],
 "metadata": {
  "kernelspec": {
   "display_name": "Python (tf_gpu)",
   "language": "python",
   "name": "tf_gpu"
  },
  "language_info": {
   "codemirror_mode": {
    "name": "ipython",
    "version": 3
   },
   "file_extension": ".py",
   "mimetype": "text/x-python",
   "name": "python",
   "nbconvert_exporter": "python",
   "pygments_lexer": "ipython3",
   "version": "3.6.7"
  },
  "toc": {
   "base_numbering": 1,
   "nav_menu": {},
   "number_sections": true,
   "sideBar": true,
   "skip_h1_title": false,
   "title_cell": "Table of Contents",
   "title_sidebar": "Contents",
   "toc_cell": false,
   "toc_position": {
    "height": "calc(100% - 180px)",
    "left": "10px",
    "top": "150px",
    "width": "253px"
   },
   "toc_section_display": true,
   "toc_window_display": true
  }
 },
 "nbformat": 4,
 "nbformat_minor": 2
}
