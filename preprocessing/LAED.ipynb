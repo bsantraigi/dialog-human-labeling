{
 "cells": [
  {
   "cell_type": "code",
   "execution_count": 1,
   "metadata": {},
   "outputs": [],
   "source": [
    "import json\n",
    "import os\n",
    "import glob\n",
    "import pickle"
   ]
  },
  {
   "cell_type": "markdown",
   "metadata": {},
   "source": [
    "### Read LAED utt predictions from file"
   ]
  },
  {
   "cell_type": "code",
   "execution_count": 2,
   "metadata": {},
   "outputs": [],
   "source": [
    "def laed_utterances_into_dialogs(laed_file):\n",
    "    utterances = []\n",
    "    # Process the individual predictions from LAED\n",
    "    with open(laed_file) as f:\n",
    "        dat = {}\n",
    "        for line in f:\n",
    "            if line.startswith(\"==== REPORT====\"):\n",
    "                break\n",
    "            if len(line.strip()) == 0:\n",
    "                if len(dat) > 0:\n",
    "                    utterances.append(dat)\n",
    "                dat = {}\n",
    "                continue\n",
    "\n",
    "            k, v = line.split(': ', 1)\n",
    "            k = k.strip()\n",
    "            v = v.strip()\n",
    "            dat[k] = v\n",
    "\n",
    "    laed_predictions = []\n",
    "    dial = []\n",
    "    for entry in utterances:\n",
    "        if entry['Source'] == '<d>':\n",
    "            if len(dial) > 0:\n",
    "                laed_predictions.append(dial)\n",
    "            dial = []\n",
    "\n",
    "        dial.append(entry)\n",
    "\n",
    "    # THE LAST ONE    \n",
    "    laed_predictions.append(dial)\n",
    "    return laed_predictions"
   ]
  },
  {
   "cell_type": "markdown",
   "metadata": {},
   "source": [
    "### Read ResGEN outputs"
   ]
  },
  {
   "cell_type": "code",
   "execution_count": 3,
   "metadata": {},
   "outputs": [],
   "source": [
    "def vlgan_json(path):\n",
    "    vlgan_predictions = []\n",
    "    with open(path) as vlganf:\n",
    "        for line in vlganf:\n",
    "            po = json.loads(line)\n",
    "            vlgan_predictions.append(po)\n",
    "    return vlgan_predictions"
   ]
  },
  {
   "cell_type": "markdown",
   "metadata": {},
   "source": [
    "### Augment ResGEN json"
   ]
  },
  {
   "cell_type": "code",
   "execution_count": 4,
   "metadata": {},
   "outputs": [],
   "source": [
    "def augment(vlgan_preds, laed_outputFile, tag):\n",
    "    laed_predictions = laed_utterances_into_dialogs(laed_dd_skip_file)\n",
    "    \n",
    "    for i in range(len(vlgan_preds)):\n",
    "        laed_sample, vlgan_sample = laed_predictions[i], vlgan_preds[i]\n",
    "        laed_sample = laed_sample[:len(vlgan_sample)]\n",
    "#         if len(laed_sample) < 12:\n",
    "#             try:\n",
    "#                 assert (len(laed_sample)) == len(vlgan_sample)\n",
    "#             except AssertionError as E:\n",
    "#                 print(i)\n",
    "#                 print(len(laed_sample), len(vlgan_sample))\n",
    "#                 print(laed_sample)\n",
    "#                 print(\"==\"*10)\n",
    "#                 print(vlgan_sample)\n",
    "#                 raise E\n",
    "#         else:\n",
    "#             assert len(vlgan_sample) == 11 and len(laed_sample) > 11\n",
    "\n",
    "        for t in range(min(12, len(vlgan_sample))):\n",
    "            _t = str(t)\n",
    "            vlgan_preds[i][_t][f'{tag}'] = laed_sample[t]['Predict']\n",
    "            vlgan_preds[i][_t][f'{tag}.Target'] = laed_sample[t]['Target']\n",
    "    return vlgan_preds"
   ]
  },
  {
   "cell_type": "code",
   "execution_count": 5,
   "metadata": {},
   "outputs": [],
   "source": [
    "vlgan_predictions = vlgan_json('dd/VLGAN/dd_predictions_tmp.json')"
   ]
  },
  {
   "cell_type": "code",
   "execution_count": 6,
   "metadata": {},
   "outputs": [
    {
     "name": "stdout",
     "output_type": "stream",
     "text": [
      "dd/LAED/2019-12-04T23-43-57-dailydial-skip.py/2019-12-04T23-44-05-test-greedy.txt.txt\n"
     ]
    }
   ],
   "source": [
    "data_root = 'dd/LAED/2019-12-04T23-43-57-dailydial-skip.py/'\n",
    "laed_dd_skip_file = glob.glob(data_root+'/*greedy.txt.txt')[0]\n",
    "print(laed_dd_skip_file)"
   ]
  },
  {
   "cell_type": "code",
   "execution_count": 7,
   "metadata": {},
   "outputs": [],
   "source": [
    "vlgan_predictions = augment(vlgan_predictions, laed_dd_skip_file, 'laed-skip')"
   ]
  },
  {
   "cell_type": "code",
   "execution_count": 8,
   "metadata": {},
   "outputs": [
    {
     "name": "stdout",
     "output_type": "stream",
     "text": [
      "dd/LAED/2019-12-05T01-18-14-dailydialog-ae.py/2019-12-05T01-18-22-test-greedy.txt.txt\n"
     ]
    }
   ],
   "source": [
    "data_root = 'dd/LAED/2019-12-05T01-18-14-dailydialog-ae.py/'\n",
    "laed_dd_skip_file = glob.glob(data_root+'/*greedy.txt.txt')[0]\n",
    "print(laed_dd_skip_file)"
   ]
  },
  {
   "cell_type": "code",
   "execution_count": 9,
   "metadata": {},
   "outputs": [],
   "source": [
    "vlgan_predictions = augment(vlgan_predictions, laed_dd_skip_file, 'laed-ae')"
   ]
  },
  {
   "cell_type": "code",
   "execution_count": 15,
   "metadata": {
    "scrolled": true
   },
   "outputs": [
    {
     "data": {
      "text/plain": [
       "{'0': {'user-x': 0,\n",
       "  'gold': 'So , Paula , where are you from ?',\n",
       "  'laed-skip': 'plans, why are you so depressed?',\n",
       "  'laed-skip.Target': 'so, paula, where are you from?',\n",
       "  'laed-ae': 'excuse me, sir. i have a friend of room for you.',\n",
       "  'laed-ae.Target': 'so, paula, where are you from?'},\n",
       " '1': {'user-x': 1,\n",
       "  'gold': \"I'm from Canada , originally .\",\n",
       "  'resgen': ['i m going to buy a new one .'],\n",
       "  'laed-skip': \"television? i 'm a bit of a hurry. i' m a little short - shape. i 'm looking for cologne.\",\n",
       "  'laed-skip.Target': \"i 'm from canada, originally.\",\n",
       "  'laed-ae': 'well, i came to say i started playing chess.',\n",
       "  'laed-ae.Target': \"i 'm from canada, originally.\"},\n",
       " '2': {'user-x': 0,\n",
       "  'gold': 'From Canada ? Where were you born ?',\n",
       "  'resgen': ['oh , what s the ?'],\n",
       "  'laed-skip': 'what kind of music do you like?',\n",
       "  'laed-skip.Target': 'from canada? where were you born?',\n",
       "  'laed-ae': '</d>',\n",
       "  'laed-ae.Target': 'from canada? where were you born?'},\n",
       " '3': {'user-x': 1,\n",
       "  'gold': 'Montreal .',\n",
       "  'resgen': ['canada ? i didn t know where i was .'],\n",
       "  'laed-skip': 'expensive. i was a bit worried about it. i was worried about it.',\n",
       "  'laed-skip.Target': 'montreal.',\n",
       "  'laed-ae': 'i went to university.',\n",
       "  'laed-ae.Target': 'montreal.'},\n",
       " '4': {'user-x': 0,\n",
       "  'gold': 'When did you come to Los Angeles ?',\n",
       "  'resgen': ['which do you know ?'],\n",
       "  'laed-skip': \"peanuts? i 've heard that the old one is very hot.\",\n",
       "  'laed-skip.Target': 'when did you come to los angeles?',\n",
       "  'laed-ae': \"what 's your favorite magazine?\",\n",
       "  'laed-ae.Target': 'when did you come to los angeles?'},\n",
       " '5': {'user-x': 1,\n",
       "  'gold': 'We moved here when I was fourteen .',\n",
       "  'resgen': ['yeah . but i prefer to be the . . . .'],\n",
       "  'laed-skip': 'fine.',\n",
       "  'laed-skip.Target': 'we moved here when i was fourteen.',\n",
       "  'laed-ae': \"i 'm not feeling about it.\",\n",
       "  'laed-ae.Target': 'we moved here when i was fourteen.'},\n",
       " '6': {'user-x': 0,\n",
       "  'gold': 'Did you go to school here ?',\n",
       "  'resgen': ['how about you ? ? ?'],\n",
       "  'laed-skip': 'figured? why did you go to bed?',\n",
       "  'laed-skip.Target': 'did you go to school here?',\n",
       "  'laed-ae': \"that 's great! i' m glad you came to see you.\",\n",
       "  'laed-ae.Target': 'did you go to school here?'},\n",
       " '7': {'user-x': 1,\n",
       "  'gold': 'Well , I went to high school here , but I went to college in Texas .',\n",
       "  'resgen': ['yeah . it s very much .'],\n",
       "  'laed-skip': 'she started a sudden. i was just thinking about her.',\n",
       "  'laed-skip.Target': 'well, i went to high school here, but i went to college in texas.',\n",
       "  'laed-ae': \"i 'm going to be a teacher.\",\n",
       "  'laed-ae.Target': 'well, i went to high school here, but i went to college in texas.'},\n",
       " '8': {'user-x': 0,\n",
       "  'gold': 'Did you get a job right after graduation ?',\n",
       "  'resgen': ['how about it ?'],\n",
       "  'laed-skip': 'figured? why did you go to bed?',\n",
       "  'laed-skip.Target': 'did you get a job right after graduation?',\n",
       "  'laed-ae': 'where did you go?',\n",
       "  'laed-ae.Target': 'did you get a job right after graduation?'},\n",
       " '9': {'user-x': 1,\n",
       "  'gold': 'No , I traveled for a while in Europe after college , and then I lived in France .',\n",
       "  'resgen': ['i think i ve got a few things .'],\n",
       "  'laed-skip': 'his attendant is a bit too.',\n",
       "  'laed-skip.Target': 'no, i traveled for a while in europe after college, and then i lived in france.',\n",
       "  'laed-ae': \"yes, i 'm from the states. i was born in beijing.\",\n",
       "  'laed-ae.Target': 'no, i traveled for a while in europe after college, and then i lived in france.'},\n",
       " '10': {'user-x': 0,\n",
       "  'gold': 'When was that ?',\n",
       "  'resgen': ['why ?'],\n",
       "  'laed-skip': 'figured? did you get caught a lot of pressure?',\n",
       "  'laed-skip.Target': 'when was that?',\n",
       "  'laed-ae': \"that 's great!\",\n",
       "  'laed-ae.Target': 'when was that?'}}"
      ]
     },
     "execution_count": 15,
     "metadata": {},
     "output_type": "execute_result"
    }
   ],
   "source": [
    "vlgan_predictions[799]"
   ]
  },
  {
   "cell_type": "code",
   "execution_count": 17,
   "metadata": {},
   "outputs": [],
   "source": [
    "with open('../outputs/dd_predictions_combined-Nov-21.json', 'w') as outf:\n",
    "    for entry in vlgan_predictions:\n",
    "        outf.write(json.dumps(entry) + '\\n')"
   ]
  },
  {
   "cell_type": "code",
   "execution_count": null,
   "metadata": {},
   "outputs": [],
   "source": []
  }
 ],
 "metadata": {
  "kernelspec": {
   "display_name": "Python (tf_gpu)",
   "language": "python",
   "name": "tf_gpu"
  },
  "language_info": {
   "codemirror_mode": {
    "name": "ipython",
    "version": 3
   },
   "file_extension": ".py",
   "mimetype": "text/x-python",
   "name": "python",
   "nbconvert_exporter": "python",
   "pygments_lexer": "ipython3",
   "version": "3.6.7"
  },
  "toc": {
   "base_numbering": 1,
   "nav_menu": {},
   "number_sections": true,
   "sideBar": true,
   "skip_h1_title": false,
   "title_cell": "Table of Contents",
   "title_sidebar": "Contents",
   "toc_cell": false,
   "toc_position": {
    "height": "calc(100% - 180px)",
    "left": "10px",
    "top": "150px",
    "width": "253px"
   },
   "toc_section_display": true,
   "toc_window_display": true
  }
 },
 "nbformat": 4,
 "nbformat_minor": 2
}
