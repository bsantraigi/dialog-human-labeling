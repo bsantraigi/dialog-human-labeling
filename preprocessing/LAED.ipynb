{
 "cells": [
  {
   "cell_type": "code",
   "execution_count": 1,
   "metadata": {},
   "outputs": [],
   "source": [
    "import json\n",
    "import os\n",
    "import glob\n",
    "import pickle"
   ]
  },
  {
   "cell_type": "code",
   "execution_count": 15,
   "metadata": {},
   "outputs": [],
   "source": [
    "def laed_utterances_into_dialogs(laed_file):\n",
    "    utterances = []\n",
    "    # Process the individual predictions from LAED\n",
    "    with open(laed_file) as f:\n",
    "        dat = {}\n",
    "        for line in f:\n",
    "            if line.startswith(\"==== REPORT====\"):\n",
    "                break\n",
    "            if len(line.strip()) == 0:\n",
    "                if len(dat) > 0:\n",
    "                    utterances.append(dat)\n",
    "                dat = {}\n",
    "                continue\n",
    "\n",
    "            k, v = line.split(': ', 1)\n",
    "            k = k.strip()\n",
    "            v = v.strip()\n",
    "            dat[k] = v\n",
    "\n",
    "    laed_predictions = []\n",
    "    dial = []\n",
    "    for entry in utterances:\n",
    "        if entry['Source'] == '<d>':\n",
    "            if len(dial) > 0:\n",
    "                laed_predictions.append(dial)\n",
    "            dial = []\n",
    "\n",
    "        dial.append(entry)\n",
    "\n",
    "    # THE LAST ONE    \n",
    "    laed_predictions.append(dial)\n",
    "    return laed_predictions"
   ]
  },
  {
   "cell_type": "code",
   "execution_count": 14,
   "metadata": {},
   "outputs": [],
   "source": [
    "def vlgan_json(path):\n",
    "    vlgan_predictions = []\n",
    "    with open(path) as vlganf:\n",
    "        for line in vlganf:\n",
    "            po = json.loads(line)\n",
    "            vlgan_predictions.append(po)\n",
    "    return vlgan_predictions"
   ]
  },
  {
   "cell_type": "code",
   "execution_count": 17,
   "metadata": {},
   "outputs": [],
   "source": [
    "def augment(vlgan_preds, laed_outputFile, tag):\n",
    "    laed_predictions = laed_utterances_into_dialogs(laed_dd_skip_file)\n",
    "    \n",
    "    for i in range(len(vlgan_preds)):\n",
    "        laed_sample, vlgan_sample = laed_predictions[i], vlgan_preds[i]\n",
    "        if len(laed_sample) < 12:\n",
    "            assert (len(laed_sample)) == len(vlgan_sample)\n",
    "        else:\n",
    "            assert len(vlgan_sample) == 11 and len(laed_sample) > 11\n",
    "\n",
    "        for t in range(min(12, len(vlgan_sample))):\n",
    "            _t = str(t)\n",
    "            vlgan_preds[i][_t][f'{tag}'] = laed_sample[t]['Predict']\n",
    "            vlgan_preds[i][_t][f'{tag}.Target'] = laed_sample[t]['Target']\n",
    "    return vlgan_preds"
   ]
  },
  {
   "cell_type": "code",
   "execution_count": 19,
   "metadata": {},
   "outputs": [],
   "source": [
    "vlgan_predictions = vlgan_json('dd/VLGAN/dd_predictions_tmp.json')"
   ]
  },
  {
   "cell_type": "code",
   "execution_count": 23,
   "metadata": {},
   "outputs": [
    {
     "name": "stdout",
     "output_type": "stream",
     "text": [
      "dd/LAED/2019-12-04T23-43-57-dailydial-skip.py/2019-12-04T23-44-05-test-greedy.txt.txt\n"
     ]
    }
   ],
   "source": [
    "data_root = 'dd/LAED/2019-12-04T23-43-57-dailydial-skip.py/'\n",
    "laed_dd_skip_file = glob.glob(data_root+'/*greedy.txt.txt')[0]\n",
    "print(laed_dd_skip_file)"
   ]
  },
  {
   "cell_type": "code",
   "execution_count": 20,
   "metadata": {},
   "outputs": [],
   "source": [
    "vlgan_predictions = augment(vlgan_predictions, laed_dd_skip_file, 'laed-skip')"
   ]
  },
  {
   "cell_type": "code",
   "execution_count": 24,
   "metadata": {},
   "outputs": [
    {
     "name": "stdout",
     "output_type": "stream",
     "text": [
      "dd/LAED/2019-12-05T01-18-14-dailydialog-ae.py/2019-12-05T01-18-22-test-greedy.txt.txt\n"
     ]
    }
   ],
   "source": [
    "data_root = 'dd/LAED/2019-12-05T01-18-14-dailydialog-ae.py/'\n",
    "laed_dd_skip_file = glob.glob(data_root+'/*greedy.txt.txt')[0]\n",
    "print(laed_dd_skip_file)"
   ]
  },
  {
   "cell_type": "code",
   "execution_count": 25,
   "metadata": {},
   "outputs": [],
   "source": [
    "vlgan_predictions = augment(vlgan_predictions, laed_dd_skip_file, 'laed-ae')"
   ]
  },
  {
   "cell_type": "code",
   "execution_count": null,
   "metadata": {},
   "outputs": [],
   "source": []
  }
 ],
 "metadata": {
  "kernelspec": {
   "display_name": "Python (tf_gpu)",
   "language": "python",
   "name": "tf_gpu"
  },
  "language_info": {
   "codemirror_mode": {
    "name": "ipython",
    "version": 3
   },
   "file_extension": ".py",
   "mimetype": "text/x-python",
   "name": "python",
   "nbconvert_exporter": "python",
   "pygments_lexer": "ipython3",
   "version": "3.6.7"
  },
  "toc": {
   "base_numbering": 1,
   "nav_menu": {},
   "number_sections": true,
   "sideBar": true,
   "skip_h1_title": false,
   "title_cell": "Table of Contents",
   "title_sidebar": "Contents",
   "toc_cell": false,
   "toc_position": {
    "height": "calc(100% - 180px)",
    "left": "10px",
    "top": "150px",
    "width": "253px"
   },
   "toc_section_display": true,
   "toc_window_display": true
  }
 },
 "nbformat": 4,
 "nbformat_minor": 2
}
