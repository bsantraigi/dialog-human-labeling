{
 "cells": [
  {
   "cell_type": "code",
   "execution_count": 3,
   "metadata": {},
   "outputs": [],
   "source": [
    "import json\n",
    "import os\n",
    "import glob\n",
    "import pickle"
   ]
  },
  {
   "cell_type": "code",
   "execution_count": 4,
   "metadata": {},
   "outputs": [],
   "source": [
    "data_root = 'dd/LAED/2019-12-04T23-43-57-dailydial-skip.py/'"
   ]
  },
  {
   "cell_type": "code",
   "execution_count": 10,
   "metadata": {},
   "outputs": [
    {
     "name": "stdout",
     "output_type": "stream",
     "text": [
      "dd/LAED/2019-12-04T23-43-57-dailydial-skip.py/2019-12-04T23-44-05-test-greedy.txt.txt\n"
     ]
    }
   ],
   "source": [
    "greedy_outf = glob.glob(data_root+'/*greedy.txt.txt')[0]\n",
    "print(greedy_outf)"
   ]
  },
  {
   "cell_type": "code",
   "execution_count": 36,
   "metadata": {},
   "outputs": [],
   "source": [
    "entries = []\n",
    "with open(greedy_outf) as f:\n",
    "    dat = {}\n",
    "    for line in f:\n",
    "        if line.startswith(\"==== REPORT====\"):\n",
    "            break\n",
    "        if len(line.strip()) == 0:\n",
    "            if len(dat) > 0:\n",
    "                entries.append(dat)\n",
    "            dat = {}\n",
    "            continue\n",
    "        \n",
    "        k, v = line.split(': ', 1)\n",
    "        k = k.strip()\n",
    "        v = v.strip()\n",
    "        dat[k] = v"
   ]
  },
  {
   "cell_type": "code",
   "execution_count": 41,
   "metadata": {},
   "outputs": [],
   "source": [
    "dial_pack = []\n",
    "dial = []\n",
    "for entry in entries:\n",
    "    if entry['Source'] == '<d>':\n",
    "        dial_pack.append(dial)\n",
    "        dial = []\n",
    "        \n",
    "    dial.append(entry)"
   ]
  },
  {
   "cell_type": "code",
   "execution_count": 42,
   "metadata": {},
   "outputs": [
    {
     "data": {
      "text/plain": [
       "1000"
      ]
     },
     "execution_count": 42,
     "metadata": {},
     "output_type": "execute_result"
    }
   ],
   "source": [
    "len(dial_pack)"
   ]
  },
  {
   "cell_type": "code",
   "execution_count": 43,
   "metadata": {
    "scrolled": true
   },
   "outputs": [
    {
     "data": {
      "text/plain": [
       "[{'Predict': 'hello, pauline. how can i help you?',\n",
       "  'Source': '<d>',\n",
       "  'Target': 'hey man, you wanna buy some <unk>?'},\n",
       " {'Predict': \"really? i haven 't heard that.\",\n",
       "  'Source': '<d><t>hey man, you wanna buy some <unk>?',\n",
       "  'Target': 'some what?'},\n",
       " {'Predict': 'handsome, you know, i got a music in the red envelopes.',\n",
       "  'Source': '<d><t>hey man, you wanna buy some <unk>?<t>some what?',\n",
       "  'Target': '<unk>! you know? pot, <unk>, mary jane some <unk>!'},\n",
       " {'Predict': 'hints? how much is it?',\n",
       "  'Source': '<d><t>hey man, you wanna buy some <unk>?<t>some what?<t><unk>! you know? pot, <unk>, mary jane some <unk>!',\n",
       "  'Target': 'oh, umm, no thanks.'},\n",
       " {'Predict': \"figured! you 're not really!\",\n",
       "  'Source': '<d><t>hey man, you wanna buy some <unk>?<t>some what?<t><unk>! you know? pot, <unk>, mary jane some <unk>!<t>oh, umm, no thanks.',\n",
       "  'Target': 'i also have blow if you prefer to do a few lines.'},\n",
       " {'Predict': \"she is pretty cute. i 'm not a teacher.\",\n",
       "  'Source': '<d><t>hey man, you wanna buy some <unk>?<t>some what?<t><unk>! you know? pot, <unk>, mary jane some <unk>!<t>oh, umm, no thanks.<t>i also have blow if you prefer to do a few lines.',\n",
       "  'Target': 'no, i am ok, really.'},\n",
       " {'Predict': 'plans, you look a little tired.',\n",
       "  'Source': '<d><t>hey man, you wanna buy some <unk>?<t>some what?<t><unk>! you know? pot, <unk>, mary jane some <unk>!<t>oh, umm, no thanks.<t>i also have blow if you prefer to do a few lines.<t>no, i am ok, really.',\n",
       "  'Target': 'come on man! i even got <unk> and <unk>! try some!'},\n",
       " {'Predict': 'really? i thought i was just a little bit tired.',\n",
       "  'Source': '<d><t>hey man, you wanna buy some <unk>?<t>some what?<t><unk>! you know? pot, <unk>, mary jane some <unk>!<t>oh, umm, no thanks.<t>i also have blow if you prefer to do a few lines.<t>no, i am ok, really.<t>come on man! i even got <unk> and <unk>! try some!',\n",
       "  'Target': 'do you really have all of these drugs? where do you get them from?'},\n",
       " {'Predict': 'aha, they are playing the wedding march. they are all over there.',\n",
       "  'Source': '<d><t>hey man, you wanna buy some <unk>?<t>some what?<t><unk>! you know? pot, <unk>, mary jane some <unk>!<t>oh, umm, no thanks.<t>i also have blow if you prefer to do a few lines.<t>no, i am ok, really.<t>come on man! i even got <unk> and <unk>! try some!<t>do you really have all of these drugs? where do you get them from?',\n",
       "  'Target': 'i got my connections! just tell me what you want and i ll even give you one ounce for free.'},\n",
       " {'Predict': \"television. i 'll bring them to the restaurant.\",\n",
       "  'Source': '<d><t>hey man, you wanna buy some <unk>?<t>some what?<t><unk>! you know? pot, <unk>, mary jane some <unk>!<t>oh, umm, no thanks.<t>i also have blow if you prefer to do a few lines.<t>no, i am ok, really.<t>come on man! i even got <unk> and <unk>! try some!<t>do you really have all of these drugs? where do you get them from?<t>i got my connections! just tell me what you want and i ll even give you one ounce for free.',\n",
       "  'Target': 'sounds good! let s see, i want.'},\n",
       " {'Predict': 'white.',\n",
       "  'Source': 'hey man, you wanna buy some <unk>?<t>some what?<t><unk>! you know? pot, <unk>, mary jane some <unk>!<t>oh, umm, no thanks.<t>i also have blow if you prefer to do a few lines.<t>no, i am ok, really.<t>come on man! i even got <unk> and <unk>! try some!<t>do you really have all of these drugs? where do you get them from?<t>i got my connections! just tell me what you want and i ll even give you one ounce for free.<t>sounds good! let s see, i want.',\n",
       "  'Target': 'yeah?'},\n",
       " {'Predict': 'carlsborg, you can be a good question.',\n",
       "  'Source': 'some what?<t><unk>! you know? pot, <unk>, mary jane some <unk>!<t>oh, umm, no thanks.<t>i also have blow if you prefer to do a few lines.<t>no, i am ok, really.<t>come on man! i even got <unk> and <unk>! try some!<t>do you really have all of these drugs? where do you get them from?<t>i got my connections! just tell me what you want and i ll even give you one ounce for free.<t>sounds good! let s see, i want.<t>yeah?',\n",
       "  'Target': 'i want you to put your hands behind your head! you are under arrest!'}]"
      ]
     },
     "execution_count": 43,
     "metadata": {},
     "output_type": "execute_result"
    }
   ],
   "source": [
    "dial_pack[1]"
   ]
  },
  {
   "cell_type": "code",
   "execution_count": null,
   "metadata": {},
   "outputs": [],
   "source": []
  }
 ],
 "metadata": {
  "kernelspec": {
   "display_name": "Python (py2)",
   "language": "python",
   "name": "py2"
  },
  "language_info": {
   "codemirror_mode": {
    "name": "ipython",
    "version": 2
   },
   "file_extension": ".py",
   "mimetype": "text/x-python",
   "name": "python",
   "nbconvert_exporter": "python",
   "pygments_lexer": "ipython2",
   "version": "2.7.17"
  },
  "toc": {
   "base_numbering": 1,
   "nav_menu": {},
   "number_sections": true,
   "sideBar": true,
   "skip_h1_title": false,
   "title_cell": "Table of Contents",
   "title_sidebar": "Contents",
   "toc_cell": false,
   "toc_position": {
    "height": "calc(100% - 180px)",
    "left": "10px",
    "top": "150px",
    "width": "253px"
   },
   "toc_section_display": true,
   "toc_window_display": true
  }
 },
 "nbformat": 4,
 "nbformat_minor": 2
}
