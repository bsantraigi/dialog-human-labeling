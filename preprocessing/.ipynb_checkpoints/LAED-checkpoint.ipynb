{
 "cells": [
  {
   "cell_type": "code",
   "execution_count": 1,
   "metadata": {},
   "outputs": [],
   "source": [
    "import json\n",
    "import os\n",
    "import glob\n",
    "import pickle"
   ]
  },
  {
   "cell_type": "markdown",
   "metadata": {},
   "source": [
    "### Read LAED utt predictions from file"
   ]
  },
  {
   "cell_type": "code",
   "execution_count": 2,
   "metadata": {},
   "outputs": [],
   "source": [
    "def laed_utterances_into_dialogs(laed_file):\n",
    "    utterances = []\n",
    "    # Process the individual predictions from LAED\n",
    "    with open(laed_file) as f:\n",
    "        dat = {}\n",
    "        for line in f:\n",
    "            if line.startswith(\"==== REPORT====\"):\n",
    "                break\n",
    "            if len(line.strip()) == 0:\n",
    "                if len(dat) > 0:\n",
    "                    utterances.append(dat)\n",
    "                dat = {}\n",
    "                continue\n",
    "\n",
    "            k, v = line.split(': ', 1)\n",
    "            k = k.strip()\n",
    "            v = v.strip()\n",
    "            dat[k] = v\n",
    "\n",
    "    laed_predictions = []\n",
    "    dial = []\n",
    "    for entry in utterances:\n",
    "        if entry['Source'] == '<d>':\n",
    "            if len(dial) > 0:\n",
    "                laed_predictions.append(dial)\n",
    "            dial = []\n",
    "\n",
    "        dial.append(entry)\n",
    "\n",
    "    # THE LAST ONE    \n",
    "    laed_predictions.append(dial)\n",
    "    return laed_predictions"
   ]
  },
  {
   "cell_type": "markdown",
   "metadata": {},
   "source": [
    "### Read ResGEN outputs"
   ]
  },
  {
   "cell_type": "code",
   "execution_count": 3,
   "metadata": {},
   "outputs": [],
   "source": [
    "def vlgan_json(path):\n",
    "    vlgan_predictions = []\n",
    "    with open(path) as vlganf:\n",
    "        for line in vlganf:\n",
    "            po = json.loads(line)\n",
    "            vlgan_predictions.append(po)\n",
    "    return vlgan_predictions"
   ]
  },
  {
   "cell_type": "markdown",
   "metadata": {},
   "source": [
    "### Augment ResGEN json"
   ]
  },
  {
   "cell_type": "code",
   "execution_count": 4,
   "metadata": {},
   "outputs": [],
   "source": [
    "def augment(vlgan_preds, laed_outputFile, tag):\n",
    "    laed_predictions = laed_utterances_into_dialogs(laed_dd_skip_file)\n",
    "    \n",
    "    for i in range(len(vlgan_preds)):\n",
    "        laed_sample, vlgan_sample = laed_predictions[i], vlgan_preds[i]\n",
    "        laed_sample = laed_sample[:len(vlgan_sample)]\n",
    "#         if len(laed_sample) < 12:\n",
    "#             try:\n",
    "#                 assert (len(laed_sample)) == len(vlgan_sample)\n",
    "#             except AssertionError as E:\n",
    "#                 print(i)\n",
    "#                 print(len(laed_sample), len(vlgan_sample))\n",
    "#                 print(laed_sample)\n",
    "#                 print(\"==\"*10)\n",
    "#                 print(vlgan_sample)\n",
    "#                 raise E\n",
    "#         else:\n",
    "#             assert len(vlgan_sample) == 11 and len(laed_sample) > 11\n",
    "\n",
    "        for t in range(min(12, len(vlgan_sample))):\n",
    "            _t = str(t)\n",
    "            vlgan_preds[i][_t][f'{tag}'] = laed_sample[t]['Predict']\n",
    "            vlgan_preds[i][_t][f'{tag}.Target'] = laed_sample[t]['Target']\n",
    "    return vlgan_preds"
   ]
  },
  {
   "cell_type": "code",
   "execution_count": 5,
   "metadata": {},
   "outputs": [],
   "source": [
    "vlgan_predictions = vlgan_json('dd/VLGAN/dd_predictions_tmp.json')"
   ]
  },
  {
   "cell_type": "code",
   "execution_count": 6,
   "metadata": {},
   "outputs": [
    {
     "name": "stdout",
     "output_type": "stream",
     "text": [
      "dd/LAED/2019-12-04T23-43-57-dailydial-skip.py/2019-12-04T23-44-05-test-greedy.txt.txt\n"
     ]
    }
   ],
   "source": [
    "data_root = 'dd/LAED/2019-12-04T23-43-57-dailydial-skip.py/'\n",
    "laed_dd_skip_file = glob.glob(data_root+'/*greedy.txt.txt')[0]\n",
    "print(laed_dd_skip_file)"
   ]
  },
  {
   "cell_type": "code",
   "execution_count": 7,
   "metadata": {},
   "outputs": [],
   "source": [
    "vlgan_predictions = augment(vlgan_predictions, laed_dd_skip_file, 'laed-skip')"
   ]
  },
  {
   "cell_type": "code",
   "execution_count": 8,
   "metadata": {},
   "outputs": [
    {
     "name": "stdout",
     "output_type": "stream",
     "text": [
      "dd/LAED/2019-12-05T01-18-14-dailydialog-ae.py/2019-12-05T01-18-22-test-greedy.txt.txt\n"
     ]
    }
   ],
   "source": [
    "data_root = 'dd/LAED/2019-12-05T01-18-14-dailydialog-ae.py/'\n",
    "laed_dd_skip_file = glob.glob(data_root+'/*greedy.txt.txt')[0]\n",
    "print(laed_dd_skip_file)"
   ]
  },
  {
   "cell_type": "code",
   "execution_count": 9,
   "metadata": {},
   "outputs": [],
   "source": [
    "vlgan_predictions = augment(vlgan_predictions, laed_dd_skip_file, 'laed-ae')"
   ]
  },
  {
   "cell_type": "code",
   "execution_count": 14,
   "metadata": {
    "scrolled": true
   },
   "outputs": [
    {
     "data": {
      "text/plain": [
       "{'0': {'user-x': 0,\n",
       "  'gold': 'Hi , I think I was supposed to call for my test results today .',\n",
       "  'laed-skip': 'hello, sir. can i help you?',\n",
       "  'laed-skip.Target': 'hi, i think i was supposed to call for my test results today.',\n",
       "  'laed-ae': 'it s my pleasure. i m so sorry to meet you.',\n",
       "  'laed-ae.Target': 'hi, i think i was supposed to call for my test results today.'},\n",
       " '1': {'user-x': 1,\n",
       "  'gold': 'If you go onto our website and put in your password , you can access your test results .',\n",
       "  'resgen': ['you are right , sir , i m sure you can .'],\n",
       "  'laed-skip': 'welcome to you.',\n",
       "  'laed-skip.Target': 'if you go onto our website and put in your password, you can access your test results.',\n",
       "  'laed-ae': 'do you have the same problem?',\n",
       "  'laed-ae.Target': 'if you go onto our website and put in your password, you can access your test results.'},\n",
       " '2': {'user-x': 0,\n",
       "  'gold': 'Are you saying that there weren ’ t any problems ?',\n",
       "  'resgen': ['so what are you talking about ?'],\n",
       "  'laed-skip': 'iq? i m not sure.',\n",
       "  'laed-skip.Target': 'are you saying that there weren t any problems?',\n",
       "  'laed-ae': \"i 'm sorry, sir. i' m not sure what i can do. i 'm sorry, but i' m starting salary to log. i 'm going to take a plane in\",\n",
       "  'laed-ae.Target': 'are you saying that there weren t any problems?'},\n",
       " '3': {'user-x': 1,\n",
       "  'gold': 'I will always have you come in for a discussion if there is a major problem .',\n",
       "  'resgen': ['i need to know , but i ll . . .'],\n",
       "  'laed-skip': 'appropriate is a lot of exercise. you will find a lot of things you know.',\n",
       "  'laed-skip.Target': 'i will always have you come in for a discussion if there is a major problem.',\n",
       "  'laed-ae': 'yes, i am sure you will. it will cost you as soon as possible. i think i will take the blood pressure to choose from the company.',\n",
       "  'laed-ae.Target': 'i will always have you come in for a discussion if there is a major problem.'},\n",
       " '4': {'user-x': 0,\n",
       "  'gold': 'Will I be able to read the results on the website and understand them ?',\n",
       "  'resgen': ['what will i do ?'],\n",
       "  'laed-skip': '4000? i need to know what i need to do?',\n",
       "  'laed-skip.Target': 'will i be able to read the results on the website and understand them?',\n",
       "  'laed-ae': 'how long will it take to get there?',\n",
       "  'laed-ae.Target': 'will i be able to read the results on the website and understand them?'},\n",
       " '5': {'user-x': 1,\n",
       "  'gold': 'Yes , if you go there , you can see what each test is about .',\n",
       "  'resgen': ['you can t be any of your your exercises .'],\n",
       "  'laed-skip': 'bridegroom of the insurance policies.',\n",
       "  'laed-skip.Target': 'yes, if you go there, you can see what each test is about.',\n",
       "  'laed-ae': 'you can divide the earlier and then move on the line.',\n",
       "  'laed-ae.Target': 'yes, if you go there, you can see what each test is about.'},\n",
       " '6': {'user-x': 0,\n",
       "  'gold': 'How will I know what the numbers mean ?',\n",
       "  'resgen': ['can i see any of the things in the world ?'],\n",
       "  'laed-skip': 'peanuts. i think that the owners can be canceled.',\n",
       "  'laed-skip.Target': 'how will i know what the numbers mean?',\n",
       "  'laed-ae': 'i see. how much does it cost?',\n",
       "  'laed-ae.Target': 'how will i know what the numbers mean?'},\n",
       " '7': {'user-x': 1,\n",
       "  'gold': 'You can see your results and how they compare to the normal range .',\n",
       "  'resgen': ['if you can find your id number , you can see .'],\n",
       "  'laed-skip': '57 a lot of money. you will find a good way to you.',\n",
       "  'laed-skip.Target': 'you can see your results and how they compare to the normal range.',\n",
       "  'laed-ae': 'we will need to know where the employer is now. we have a good cpu for you.',\n",
       "  'laed-ae.Target': 'you can see your results and how they compare to the normal range.'},\n",
       " '8': {'user-x': 0,\n",
       "  'gold': 'How can I see test results from tests I have taken before ?',\n",
       "  'resgen': ['will i see any more of that ?'],\n",
       "  'laed-skip': 'figured?',\n",
       "  'laed-skip.Target': 'how can i see test results from tests i have taken before?',\n",
       "  'laed-ae': '</d>',\n",
       "  'laed-ae.Target': 'how can i see test results from tests i have taken before?'},\n",
       " '9': {'user-x': 1,\n",
       "  'gold': 'We put all of your test results up in the same place . Just check the dates for what you need .',\n",
       "  'resgen': ['you will see you , if you compare results , you will compare the first test .'],\n",
       "  'laed-skip': '57 a week is a disc. you can use the computer lab on your computer. you will need to pay your utility tax.',\n",
       "  'laed-skip.Target': 'we put all of your test results up in the same place. just check the dates for what you need.',\n",
       "  'laed-ae': 'that s fine. we will take part - time for you.',\n",
       "  'laed-ae.Target': 'we put all of your test results up in the same place. just check the dates for what you need.'}}"
      ]
     },
     "execution_count": 14,
     "metadata": {},
     "output_type": "execute_result"
    }
   ],
   "source": [
    "vlgan_predictions[560]"
   ]
  },
  {
   "cell_type": "code",
   "execution_count": null,
   "metadata": {},
   "outputs": [],
   "source": []
  }
 ],
 "metadata": {
  "kernelspec": {
   "display_name": "Python (tf_gpu)",
   "language": "python",
   "name": "tf_gpu"
  },
  "language_info": {
   "codemirror_mode": {
    "name": "ipython",
    "version": 3
   },
   "file_extension": ".py",
   "mimetype": "text/x-python",
   "name": "python",
   "nbconvert_exporter": "python",
   "pygments_lexer": "ipython3",
   "version": "3.6.7"
  },
  "toc": {
   "base_numbering": 1,
   "nav_menu": {},
   "number_sections": true,
   "sideBar": true,
   "skip_h1_title": false,
   "title_cell": "Table of Contents",
   "title_sidebar": "Contents",
   "toc_cell": false,
   "toc_position": {
    "height": "calc(100% - 180px)",
    "left": "10px",
    "top": "150px",
    "width": "253px"
   },
   "toc_section_display": true,
   "toc_window_display": true
  }
 },
 "nbformat": 4,
 "nbformat_minor": 2
}
